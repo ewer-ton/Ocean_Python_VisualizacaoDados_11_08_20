{
  "nbformat": 4,
  "nbformat_minor": 0,
  "metadata": {
    "colab": {
      "name": "Python_VisualizacaoDados_TSE_Receitas.ipynb",
      "provenance": [],
      "collapsed_sections": []
    },
    "kernelspec": {
      "name": "python3",
      "display_name": "Python 3"
    }
  },
  "cells": [
    {
      "cell_type": "code",
      "metadata": {
        "id": "NK31Tpu8AFMl",
        "colab_type": "code",
        "colab": {}
      },
      "source": [
        "import pandas as pd"
      ],
      "execution_count": 80,
      "outputs": []
    },
    {
      "cell_type": "code",
      "metadata": {
        "id": "t7-jbKJkCDNC",
        "colab_type": "code",
        "colab": {}
      },
      "source": [
        "sigla_uf = 'SP'\n",
        "\n",
        "nome_arquivo = f'receitas_candidatos_2018_{sigla_uf}.csv'\n",
        "url_arquivo = f'https://github.com/paulosalvatore/Ocean_Python_VisualizacaoDados_11_08_20/blob/master/receitas_candidatos/{nome_arquivo}?raw=true'\n",
        "\n",
        "df = pd.read_csv(url_arquivo, sep=';', encoding='latin-1', decimal=',')"
      ],
      "execution_count": 81,
      "outputs": []
    },
    {
      "cell_type": "code",
      "metadata": {
        "id": "oLOjEGfUESd-",
        "colab_type": "code",
        "colab": {}
      },
      "source": [
        "colunas = ['SQ_CANDIDATO', 'NM_CANDIDATO', 'VR_RECEITA']\n",
        "df_filtrado = df[colunas]"
      ],
      "execution_count": 82,
      "outputs": []
    },
    {
      "cell_type": "code",
      "metadata": {
        "id": "mtQzDXLOEiG3",
        "colab_type": "code",
        "colab": {
          "base_uri": "https://localhost:8080/",
          "height": 33
        },
        "outputId": "ca2a077d-2a97-4210-8d4f-ddc9ee762d16"
      },
      "source": [
        "len(df_filtrado.SQ_CANDIDATO.unique())"
      ],
      "execution_count": 83,
      "outputs": [
        {
          "output_type": "execute_result",
          "data": {
            "text/plain": [
              "3239"
            ]
          },
          "metadata": {
            "tags": []
          },
          "execution_count": 83
        }
      ]
    },
    {
      "cell_type": "code",
      "metadata": {
        "id": "OjGEt_NVExIk",
        "colab_type": "code",
        "colab": {
          "base_uri": "https://localhost:8080/",
          "height": 33
        },
        "outputId": "096d8365-883d-414f-a1f3-5fd31c289513"
      },
      "source": [
        "len(df_filtrado.NM_CANDIDATO.unique())"
      ],
      "execution_count": 84,
      "outputs": [
        {
          "output_type": "execute_result",
          "data": {
            "text/plain": [
              "3238"
            ]
          },
          "metadata": {
            "tags": []
          },
          "execution_count": 84
        }
      ]
    },
    {
      "cell_type": "code",
      "metadata": {
        "id": "6Ah3R_D4E3Vv",
        "colab_type": "code",
        "colab": {
          "base_uri": "https://localhost:8080/",
          "height": 234
        },
        "outputId": "a282e4b4-985a-4696-c815-eacab3eae472"
      },
      "source": [
        "group = df_filtrado.groupby(['SQ_CANDIDATO', 'NM_CANDIDATO'])\n",
        "\n",
        "group.SQ_CANDIDATO.count()"
      ],
      "execution_count": 85,
      "outputs": [
        {
          "output_type": "execute_result",
          "data": {
            "text/plain": [
              "SQ_CANDIDATO  NM_CANDIDATO                \n",
              "250000600365  ALEXSSANDER DE OLIVEIRA          8\n",
              "250000600366  ALEX PAULO                       1\n",
              "250000600371  ANTONIO RODRIGUES DE SOUSA      25\n",
              "250000600372  APARECIDO SOUZA SANTOS          16\n",
              "250000600373  BENEDITO AUGUSTO DOS SANTOS      1\n",
              "                                              ..\n",
              "250000629793  ANA DA SILVA FERNANDES           3\n",
              "250000629824  CLAUDIO GASPAR DOTTORI           1\n",
              "250000629825  UDÁRIO PIRES                     4\n",
              "250000630002  ROBERTO FRANCISCO DA SILVA       4\n",
              "250000630116  MARGARETE ANTUNES DOS SANTOS     2\n",
              "Name: SQ_CANDIDATO, Length: 3239, dtype: int64"
            ]
          },
          "metadata": {
            "tags": []
          },
          "execution_count": 85
        }
      ]
    },
    {
      "cell_type": "code",
      "metadata": {
        "id": "D_-HVkQ8FQY_",
        "colab_type": "code",
        "colab": {}
      },
      "source": [
        "group_sum = group.VR_RECEITA.sum()"
      ],
      "execution_count": 86,
      "outputs": []
    },
    {
      "cell_type": "code",
      "metadata": {
        "id": "bwPuxrCnFfmr",
        "colab_type": "code",
        "colab": {
          "base_uri": "https://localhost:8080/",
          "height": 234
        },
        "outputId": "d90ec35e-122b-45a1-e868-04f94ec159cf"
      },
      "source": [
        "group.VR_RECEITA.dtype"
      ],
      "execution_count": 87,
      "outputs": [
        {
          "output_type": "execute_result",
          "data": {
            "text/plain": [
              "SQ_CANDIDATO  NM_CANDIDATO                \n",
              "250000600365  ALEXSSANDER DE OLIVEIRA         float64\n",
              "250000600366  ALEX PAULO                      float64\n",
              "250000600371  ANTONIO RODRIGUES DE SOUSA      float64\n",
              "250000600372  APARECIDO SOUZA SANTOS          float64\n",
              "250000600373  BENEDITO AUGUSTO DOS SANTOS     float64\n",
              "                                               ...   \n",
              "250000629793  ANA DA SILVA FERNANDES          float64\n",
              "250000629824  CLAUDIO GASPAR DOTTORI          float64\n",
              "250000629825  UDÁRIO PIRES                    float64\n",
              "250000630002  ROBERTO FRANCISCO DA SILVA      float64\n",
              "250000630116  MARGARETE ANTUNES DOS SANTOS    float64\n",
              "Name: VR_RECEITA, Length: 3239, dtype: object"
            ]
          },
          "metadata": {
            "tags": []
          },
          "execution_count": 87
        }
      ]
    },
    {
      "cell_type": "code",
      "metadata": {
        "id": "kCxa1X2BFwMe",
        "colab_type": "code",
        "colab": {
          "base_uri": "https://localhost:8080/",
          "height": 217
        },
        "outputId": "f2476d17-2a64-48d9-e67e-bed4c9cee19e"
      },
      "source": [
        "target = group_sum.nlargest(10)\n",
        "\n",
        "target"
      ],
      "execution_count": 88,
      "outputs": [
        {
          "output_type": "execute_result",
          "data": {
            "text/plain": [
              "SQ_CANDIDATO  NM_CANDIDATO                       \n",
              "250000615141  MARCIO LUIZ FRANÇA GOMES               19995009.54\n",
              "250000612596  JOÃO AGRIPINO DA COSTA DORIA JUNIOR    18716604.00\n",
              "250000604077  PAULO ANTONIO SKAF                     10648708.64\n",
              "250000623884  LUIZ MARINHO                            5937300.00\n",
              "250000612593  MARA CRISTINA GABRILLI                  5327773.62\n",
              "250000615143  MAURREN HIGA MAGGI                      3813831.00\n",
              "250000615144  MARIO COVAS NETO                        2561309.32\n",
              "250000605403  BRUNA DIAS FURLAN                       2507376.59\n",
              "250000606247  MARCOS ANTONIO PEREIRA                  2496213.48\n",
              "250000606294  MARIA DO PARTO MENDES ROSAS             2423442.36\n",
              "Name: VR_RECEITA, dtype: float64"
            ]
          },
          "metadata": {
            "tags": []
          },
          "execution_count": 88
        }
      ]
    },
    {
      "cell_type": "code",
      "metadata": {
        "id": "b0pxTQyWGUOT",
        "colab_type": "code",
        "colab": {
          "base_uri": "https://localhost:8080/",
          "height": 298
        },
        "outputId": "a20bc303-0f4f-4ce0-84a5-75918a367a4e"
      },
      "source": [
        "def formatar_valor(valor):\n",
        "  return \"R$ {:.1f}M\".format(valor / 1000000)\n",
        "\n",
        "import matplotlib.pyplot as plt\n",
        "\n",
        "#fig = plt.figure(figsize=(10, 10))\n",
        "\n",
        "target_cleared = target.reset_index('SQ_CANDIDATO', drop=True).sort_values(ascending=True)\n",
        "\n",
        "target_formatado = target_cleared.map(formatar_valor)\n",
        "\n",
        "graph = target_cleared.plot.barh()\n",
        "\n",
        "graph.set_ylabel('Nome do Candidato')\n",
        "graph.set_xticklabels(target_formatado.values, rotation=45)\n",
        "\n",
        "x_offset = 0\n",
        "y_offset = 0\n",
        "for i, p in enumerate(graph.patches):\n",
        "    b = p.get_bbox()\n",
        "\n",
        "    vr_receita = target_formatado.values[i]\n",
        "\n",
        "    graph.annotate(vr_receita, ((b.x0 + b.x1)/2 + x_offset, b.y1 + y_offset))\n",
        "\n",
        "plt.show()"
      ],
      "execution_count": 120,
      "outputs": [
        {
          "output_type": "display_data",
          "data": {
            "image/png": "[encoded data removed]",
            "text/plain": [
              "<Figure size 432x288 with 1 Axes>"
            ]
          },
          "metadata": {
            "tags": [],
            "needs_background": "light"
          }
        }
      ]
    }
  ]
}